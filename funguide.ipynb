{
 "cells": [
  {
   "cell_type": "markdown",
   "metadata": {
    "id": "MWpp9Jt6auNy"
   },
   "source": [
    "# Funguide: multi-class mushroom genus classification\n",
    "\n",
    "Uses TensorFlow and TensorFlow Hub\n",
    "\n"
   ]
  },
  {
   "cell_type": "code",
   "execution_count": 3,
   "metadata": {
    "id": "ect6iFirdwP1"
   },
   "outputs": [],
   "source": [
    "import tensorflow as tf\n",
    "from tensorflow import keras\n",
    "from tensorflow.keras import layers\n",
    "import tensorflow_hub as hub\n",
    "import pandas as pd\n",
    "import numpy as np\n",
    "import matplotlib.pyplot as plt\n",
    "import datetime\n",
    "import os"
   ]
  },
  {
   "cell_type": "code",
   "execution_count": 4,
   "metadata": {
    "id": "ZHvmAzKndwT9"
   },
   "outputs": [],
   "source": [
    "labels_training = pd.read_csv(\"Data/labels_mushroom_train.csv\")\n",
    "labels_validation = pd.read_csv(\"Data/labels_mushrooms_val.csv\")\n",
    "labels_testing = pd.read_csv(\"Data/labels_mushrooms_test.csv\")"
   ]
  },
  {
   "cell_type": "code",
   "execution_count": 5,
   "metadata": {
    "id": "omNHi_p-EMqa"
   },
   "outputs": [],
   "source": [
    "filenames_train = [os.path.join(\"data\",\"images\",\"train\", file) + \".jpg\" for file in labels_training[\"id\"]]\n",
    "filenames_val = [os.path.join(\"data\",\"images\",\"val\", file) + \".jpg\" for file in labels_validation[\"id\"]]\n",
    "filenames_test = [os.path.join(\"data\",\"images\",\"test\", file) + \".jpg\" for file in labels_testing[\"id\"]]"
   ]
  },
  {
   "cell_type": "markdown",
   "metadata": {
    "id": "0aa245WWUaOW"
   },
   "source": [
    "## Label Preparation"
   ]
  },
  {
   "cell_type": "code",
   "execution_count": 6,
   "metadata": {
    "id": "nveN9Mt_oRA7"
   },
   "outputs": [],
   "source": [
    "# Creating np arrays of genus type for train, test, and val sets\n",
    "labels_train_np = labels_training[\"genus\"]\n",
    "labels_train_np = np.array(labels_train_np)\n",
    "\n",
    "labels_val_np = labels_validation[\"genus\"]\n",
    "labels_val_np = np.array(labels_val_np)\n",
    "\n",
    "labels_test_np = labels_testing[\"genus\"]\n",
    "labels_test_np = np.array(labels_test_np)"
   ]
  },
  {
   "cell_type": "code",
   "execution_count": 7,
   "metadata": {
    "id": "Z2P4JCbGoaz5"
   },
   "outputs": [],
   "source": [
    "# Creating array of unique genus types\n",
    "unique_genus = np.unique(labels_train_np)"
   ]
  },
  {
   "cell_type": "code",
   "execution_count": 8,
   "metadata": {
    "id": "QXCqeT7codyw"
   },
   "outputs": [],
   "source": [
    "# Converting np array of test, train, and val sets into booleans\n",
    "labels_train_bool = [label == unique_genus for label in labels_train_np]\n",
    "labels_val_bool = [label == unique_genus for label in labels_val_np]\n",
    "labels_test_bool = [label == unique_genus for label in labels_test_np]"
   ]
  },
  {
   "cell_type": "code",
   "execution_count": 9,
   "metadata": {
    "id": "pJaV01gHpvRm"
   },
   "outputs": [],
   "source": [
    "# Converting np boolean arrays into np integer arrays for train, test, and val sets\n",
    "labels_train_int = []\n",
    "for label in labels_train_bool:\n",
    "   labels_train_int.append(label.astype(int))\n",
    "labels_train_int = np.array(labels_train_int)\n",
    "\n",
    "labels_test_int = []\n",
    "for label in labels_test_bool:\n",
    "  labels_test_int.append(label.astype(int))\n",
    "labels_test_int = np.array(labels_test_int)\n",
    "\n",
    "labels_val_int = []\n",
    "for label in labels_val_bool:\n",
    "  labels_val_int.append(label.astype(int))\n",
    "labels_val_int = np.array(labels_val_int)"
   ]
  },
  {
   "cell_type": "markdown",
   "metadata": {
    "id": "k5qCFW181QbK"
   },
   "source": [
    "## Preprocessing images (turn into Tensor)"
   ]
  },
  {
   "cell_type": "code",
   "execution_count": 10,
   "metadata": {
    "id": "j0O-XPOH2Jni"
   },
   "outputs": [],
   "source": [
    "\n",
    "def preprocess_image(image_filepath):\n",
    "  \"\"\"\n",
    "  Converts an image from its filepath into a Tensor.\n",
    "  \"\"\"\n",
    "  image = tf.io.read_file(image_filepath)\n",
    "  image = tf.image.decode_jpeg(image, channels=3)\n",
    "  image = tf.image.convert_image_dtype(image, tf.float32)\n",
    "  image = tf.image.resize(image, size=[224, 224])\n",
    "  return image"
   ]
  },
  {
   "cell_type": "code",
   "execution_count": 11,
   "metadata": {
    "id": "KcMHz_qv2YwU"
   },
   "outputs": [],
   "source": [
    "# Convert data into batches\n",
    "def get_image_label(image_filepath, label):\n",
    "  \"\"\"\n",
    "  Takes an image and its corresponding label, processes image, \n",
    "  returns a tuple with the label\n",
    "  \"\"\"\n",
    "  processed_image = preprocess_image(image_filepath)\n",
    "  return processed_image, label"
   ]
  },
  {
   "cell_type": "code",
   "execution_count": 12,
   "metadata": {
    "id": "t--k3FX09yEK"
   },
   "outputs": [],
   "source": [
    "BATCH_SIZE = 32\n",
    "\n",
    "# create batches for testing\n",
    "\n",
    "def create_data_batch(X, y=None, batch_size=BATCH_SIZE, validation_data=False, test_data=False):\n",
    "    \"\"\"\n",
    "    Create batches of data from image-label pairs and shuffles for training.\n",
    "    Data is not shuffled for validation.\n",
    "    \"\"\"\n",
    "    if test_data:\n",
    "        data = tf.data.Dataset.from_tensor_slices((tf.constant(X))) # files, no labels\n",
    "        data_batch = data.map(preprocess_image).batch(BATCH_SIZE)\n",
    "        return data_batch\n",
    "    elif validation_data:\n",
    "        data = tf.data.Dataset.from_tensor_slices((tf.constant(X), tf.constant(y))) # files and labels\n",
    "        data_batch = data.map(get_image_label).batch(BATCH_SIZE)\n",
    "        return data_batch\n",
    "    else:\n",
    "        data = tf.data.Dataset.from_tensor_slices((tf.constant(X), tf.constant(y)))\n",
    "        data = data.shuffle(buffer_size=len(X))\n",
    "        data = data.map(get_image_label) # Image label tuple. Turns filepath into processed image\n",
    "        data_batch = data.batch(BATCH_SIZE)\n",
    "        return data_batch\n",
    "\n"
   ]
  },
  {
   "cell_type": "code",
   "execution_count": 13,
   "metadata": {
    "colab": {
     "base_uri": "https://localhost:8080/"
    },
    "id": "DWSy-ZDoJykY",
    "outputId": "b2a2699b-dd54-4e9c-d997-7ba86c887e87"
   },
   "outputs": [],
   "source": [
    "# Create training and validation data\n",
    "\n",
    "# All of the data. To be used after sample test\n",
    "train_data = create_data_batch(filenames_train, labels_train_int)\n",
    "val_data = create_data_batch(filenames_val, labels_val_int, validation_data=True)\n",
    "test_data = create_data_batch(filenames_test, labels_test_int, validation_data=True)\n",
    "\n",
    "# 1000 samples for model testing\n",
    "#train_data = create_data_batch(filenames_train[:800], labels_train_int[:800])\n",
    "#val_data = create_data_batch(filenames_val[:200], labels_val_int[:200])"
   ]
  },
  {
   "cell_type": "markdown",
   "metadata": {
    "id": "yYjhp50_mkFc"
   },
   "source": [
    "## Visualizing data batch"
   ]
  },
  {
   "cell_type": "code",
   "execution_count": 14,
   "metadata": {
    "id": "9rwsu9KInkZP"
   },
   "outputs": [],
   "source": [
    "train_images, train_labels = next(train_data.as_numpy_iterator())\n",
    "val_images, val_labels = next(val_data.as_numpy_iterator())\n",
    "test_images, test_labels = next(train_data.as_numpy_iterator())"
   ]
  },
  {
   "cell_type": "markdown",
   "metadata": {
    "id": "z-LRrQMVvFtB"
   },
   "source": [
    "## Build the model\n",
    "\n",
    "Define:\n",
    "* Input shape (image in Tensor form) to model\n",
    "* The output shape (image labels, in Tensoor form) of our model\n",
    "* URL of model to use"
   ]
  },
  {
   "cell_type": "code",
   "execution_count": 15,
   "metadata": {
    "id": "TXeYxV86vMSL"
   },
   "outputs": [],
   "source": [
    "# Setup input shape to the model\n",
    "INPUT_SHAPE = [None, 224, 224, 3] #batch, height, width, color channel\n",
    "\n",
    "OUTPUT_SHAPE = len(unique_genus)\n",
    "\n",
    "MODEL_URL = \"https://tfhub.dev/google/imagenet/mobilenet_v3_large_100_224/classification/5\"\n"
   ]
  },
  {
   "cell_type": "code",
   "execution_count": 16,
   "metadata": {
    "id": "yuKpFXDewGbY"
   },
   "outputs": [],
   "source": [
    "# Build model using keras\n",
    "\n",
    "def build_model(input_shape=INPUT_SHAPE, output_shape=OUTPUT_SHAPE, model_url=MODEL_URL):\n",
    "    \"\"\"Creates a sequential model using Keras. Input shape is the shape of the processed images. \n",
    "    The output shape is the possible mushroom genera. Uses image recognition model from tfhub for transfer learning.\n",
    "    Compiles model using Categorical Crossentropy loss function.\n",
    "    \"\"\"\n",
    "    model = keras.Sequential(\n",
    "      [\n",
    "       hub.KerasLayer(MODEL_URL),\n",
    "       tf.keras.layers.Dense(units=OUTPUT_SHAPE,\n",
    "                             activation=\"softmax\")\n",
    "       ]\n",
    "       )\n",
    "    model.compile(loss=tf.keras.losses.CategoricalCrossentropy(),\n",
    "                optimizer=tf.keras.optimizers.Adam(),\n",
    "                metrics=[\"accuracy\"])\n",
    "    model.build(INPUT_SHAPE)\n",
    "    \n",
    "    return model"
   ]
  },
  {
   "cell_type": "markdown",
   "metadata": {},
   "source": [
    "## Use build_model() function to create "
   ]
  },
  {
   "cell_type": "code",
   "execution_count": 17,
   "metadata": {
    "id": "lHhGL2Wzz1GR"
   },
   "outputs": [],
   "source": [
    "# Model has already been built, this is commented out to avoid the long processing time of rebuilding the model.\n",
    "#model = build_model()\n",
    "#model.summary()"
   ]
  },
  {
   "cell_type": "markdown",
   "metadata": {
    "id": "8DA4dUin7EMk"
   },
   "source": [
    "## Create callbacks\n",
    "\n",
    "Helper functions model uses during training. Saves progress, checks progress, or stops training early\n"
   ]
  },
  {
   "cell_type": "code",
   "execution_count": 18,
   "metadata": {
    "colab": {
     "base_uri": "https://localhost:8080/"
    },
    "id": "Yk2l262Q6_8g",
    "outputId": "ba8c2d4e-e528-4e82-e131-1908be8eba2d"
   },
   "outputs": [],
   "source": [
    "%load_ext tensorboard"
   ]
  },
  {
   "cell_type": "code",
   "execution_count": 19,
   "metadata": {
    "id": "8ujea4O37gsa"
   },
   "outputs": [],
   "source": [
    "def create_tensorboard():\n",
    "  log_dir = os.path.join(\"/content/drive/MyDrive/Funguide/Logs\",\n",
    "                         datetime.datetime.now().strftime(\"%Y%m%d-%H%M%S\"))\n",
    "  return tf.keras.callbacks.TensorBoard(log_dir)"
   ]
  },
  {
   "cell_type": "code",
   "execution_count": 20,
   "metadata": {
    "id": "qzcYd_9q8vYN"
   },
   "outputs": [],
   "source": [
    "early_stop = tf.keras.callbacks.EarlyStopping(monitor=\"val_accuracy\",\n",
    "                                              patience=3)"
   ]
  },
  {
   "cell_type": "markdown",
   "metadata": {
    "id": "8vl5pOm29gr0"
   },
   "source": [
    "## Training the model\n",
    "* Build the model using function\n",
    "* set up a tensorboard helper function\n",
    "* Call the fit() function on model, pass it training and validation data, and the number of epochs to train for. Also specify callbacks to use\n",
    "* return model"
   ]
  },
  {
   "cell_type": "code",
   "execution_count": 21,
   "metadata": {
    "id": "46gLFK8q9XmG"
   },
   "outputs": [],
   "source": [
    "# Trains the model for 100 epoches (unless early_stop is triggered)\n",
    "NUM_EPOCHS = 100"
   ]
  },
  {
   "cell_type": "code",
   "execution_count": 22,
   "metadata": {
    "id": "uMZIKCiqACiv"
   },
   "outputs": [],
   "source": [
    "# Model training function\n",
    "def train_model():\n",
    "  \"\"\"\n",
    "  Trains the model and returns it. Creates a tensorboard to track training accuracy.\n",
    "  Uses an early stop with a patience of 3 to prevent overfitting.\n",
    "  \"\"\"\n",
    "  model = build_model()\n",
    "\n",
    "  tensorboard = create_tensorboard()\n",
    "\n",
    "  model.fit(x=train_data,\n",
    "            epochs=NUM_EPOCHS,\n",
    "            validation_data=val_data,\n",
    "            validation_freq=1,\n",
    "            callbacks=[tensorboard, early_stop])\n",
    "  \n",
    "  return model"
   ]
  },
  {
   "cell_type": "markdown",
   "metadata": {
    "id": "BZutpc2Pt2lC"
   },
   "source": [
    "## Convert model's prediction probabilities to its label"
   ]
  },
  {
   "cell_type": "code",
   "execution_count": 23,
   "metadata": {
    "id": "FV6OgySFqx5f"
   },
   "outputs": [],
   "source": [
    "def get_prediction_label(prediction_array):\n",
    "  \"\"\"\n",
    "  Converts a prediction array into a label.\n",
    "  \"\"\"\n",
    "  return unique_genus[np.argmax(prediction_array)]"
   ]
  },
  {
   "cell_type": "code",
   "execution_count": 24,
   "metadata": {
    "id": "xgnQ2VIkuZl0"
   },
   "outputs": [],
   "source": [
    "# get_prediction_label(predictions[9])"
   ]
  },
  {
   "cell_type": "code",
   "execution_count": 25,
   "metadata": {
    "id": "8hGzI74DudLy"
   },
   "outputs": [],
   "source": [
    "# Get image from batched data\n",
    "\n",
    "def unbatch_data(batch):\n",
    "  \"\"\"\n",
    "  Takes a data batch and returns two lists containing the unbatched imagesa and labels.\n",
    "  \"\"\"\n",
    "  images_unbatched = []\n",
    "  labels_unbatched = []\n",
    "  for image, label in batch.unbatch().as_numpy_iterator():\n",
    "    images_unbatched.append(image)\n",
    "    labels_unbatched.append(unique_genus[np.argmax(label)])\n",
    "  return images_unbatched, labels_unbatched\n",
    "\n",
    "#val_images, val_labels = unbatch_data(val_data)"
   ]
  },
  {
   "cell_type": "code",
   "execution_count": 26,
   "metadata": {
    "id": "4vxZN-_9l-G7"
   },
   "outputs": [],
   "source": [
    "def unbatch_image_data(batch):\n",
    "  \"\"\"\n",
    "  Unatches image data, used for test data / user input data.\n",
    "  \"\"\"\n",
    "  images_unbatched = []\n",
    "  for image in batch.unbatch().as_numpy_iterator():\n",
    "    images_unbatched.append(image)\n",
    "  return images_unbatched"
   ]
  },
  {
   "cell_type": "markdown",
   "metadata": {
    "id": "DHLPA9T2-kqx"
   },
   "source": [
    "## Saving and reloading a trained model"
   ]
  },
  {
   "cell_type": "code",
   "execution_count": 27,
   "metadata": {
    "id": "cCCn6Ckn-mqu"
   },
   "outputs": [],
   "source": [
    "# def save_model(model, suffix=None):\n",
    "#   modeldir = os.path.join(\"/drive/MyDrive/Funguide/models\",\n",
    "#                           datetime.datetime.now().strftime(\"%Y%m%d-%H%M%s\"))\n",
    "#   model_path = modeldir + \"-\" + suffix + \".h5\"\n",
    "#   model.save(model_path)\n",
    "#   return model_path\n"
   ]
  },
  {
   "cell_type": "code",
   "execution_count": 28,
   "metadata": {
    "id": "3nORJXxJAXnb"
   },
   "outputs": [],
   "source": [
    "# def load_model(model_path):\n",
    "#   model = tf.keras.models.load_model(model_path,\n",
    "#                                      custom_objects={\"KerasLayer\":hub.KerasLayer})\n",
    "#   return model"
   ]
  },
  {
   "cell_type": "code",
   "execution_count": 29,
   "metadata": {
    "id": "2whnHMXGPtzd"
   },
   "outputs": [],
   "source": [
    "# Fit full model to all data\n",
    "# model_all_data.fit(x=train_data,\n",
    "#                    epochs=100,\n",
    "#                   callbacks=[model_all_data_tensorboard, model_all_data_stop])"
   ]
  },
  {
   "cell_type": "code",
   "execution_count": 30,
   "metadata": {},
   "outputs": [],
   "source": [
    "# Loading the previously trained model\n",
    "loaded_model = tf.keras.models.load_model(\"funguide_saved_model.h5\",\n",
    "                                                       custom_objects={\"KerasLayer\": hub.KerasLayer})"
   ]
  },
  {
   "cell_type": "markdown",
   "metadata": {
    "id": "ZDJhMqPxGF_6"
   },
   "source": [
    "## Test data run"
   ]
  },
  {
   "cell_type": "code",
   "execution_count": 31,
   "metadata": {
    "colab": {
     "base_uri": "https://localhost:8080/"
    },
    "id": "xQtjIq8uK7Zp",
    "outputId": "3b4132fa-04a5-4939-d04d-847bc362bd8d"
   },
   "outputs": [
    {
     "name": "stdout",
     "output_type": "stream",
     "text": [
      "22/22 [==============================] - 5s 194ms/step\n"
     ]
    },
    {
     "data": {
      "text/plain": [
       "array([[3.15194759e-09, 6.72182421e-10, 7.54620366e-09, ...,\n",
       "        9.99515295e-01, 1.81477403e-10, 4.82852309e-04],\n",
       "       [5.59686475e-09, 1.30082313e-07, 9.99413967e-01, ...,\n",
       "        5.40381334e-05, 1.45807462e-07, 5.27666882e-04],\n",
       "       [1.55868165e-07, 1.32539171e-07, 1.60069405e-07, ...,\n",
       "        9.96905386e-01, 3.05293268e-03, 4.70288001e-07],\n",
       "       ...,\n",
       "       [8.81266501e-12, 5.64761820e-07, 2.94872259e-19, ...,\n",
       "        6.29426552e-07, 7.08023806e-10, 4.10694291e-11],\n",
       "       [1.02512795e-05, 1.21211596e-02, 4.89847698e-05, ...,\n",
       "        9.56589058e-02, 6.27632893e-04, 5.20956062e-04],\n",
       "       [1.93225856e-06, 7.52039796e-06, 2.16987110e-06, ...,\n",
       "        8.68834648e-03, 1.21966586e-04, 1.23902646e-04]], dtype=float32)"
      ]
     },
     "execution_count": 31,
     "metadata": {},
     "output_type": "execute_result"
    }
   ],
   "source": [
    "test_data\n",
    "test_predictions = loaded_model.predict(test_data,\n",
    "                       verbose=1)\n",
    "test_predictions\n"
   ]
  },
  {
   "cell_type": "code",
   "execution_count": 32,
   "metadata": {},
   "outputs": [
    {
     "name": "stdout",
     "output_type": "stream",
     "text": [
      "22/22 [==============================] - 5s 195ms/step - loss: 0.8389 - accuracy: 0.7938\n"
     ]
    },
    {
     "data": {
      "text/plain": [
       "[0.8389179110527039, 0.7937685251235962]"
      ]
     },
     "execution_count": 32,
     "metadata": {},
     "output_type": "execute_result"
    }
   ],
   "source": [
    "test_data\n",
    "\n",
    "loaded_model.evaluate(test_data)"
   ]
  },
  {
   "cell_type": "markdown",
   "metadata": {},
   "source": [
    "## Creating a confusion matrix for the model"
   ]
  },
  {
   "cell_type": "code",
   "execution_count": 33,
   "metadata": {},
   "outputs": [],
   "source": [
    "one_dim_test_labels = []\n",
    "for x in range(labels_test_int.shape[0]):\n",
    "    one_dim_test_labels.append(np.argmax(labels_test_int[x]))"
   ]
  },
  {
   "cell_type": "code",
   "execution_count": 34,
   "metadata": {},
   "outputs": [],
   "source": [
    "one_dim_test_labels = np.array(one_dim_test_labels)"
   ]
  },
  {
   "cell_type": "code",
   "execution_count": 35,
   "metadata": {},
   "outputs": [],
   "source": [
    "one_dim_predictions = np.array([])\n",
    "for x in range(test_predictions.shape[0]):\n",
    "    one_dim_predictions = np.append(one_dim_predictions, [(np.argmax(test_predictions[x]))])"
   ]
  },
  {
   "cell_type": "code",
   "execution_count": 36,
   "metadata": {},
   "outputs": [],
   "source": [
    "confusion_matrix = tf.math.confusion_matrix(one_dim_test_labels, one_dim_predictions, num_classes=9)"
   ]
  },
  {
   "cell_type": "code",
   "execution_count": 37,
   "metadata": {
    "scrolled": true
   },
   "outputs": [
    {
     "data": {
      "image/png": "[encoded data removed]",
      "text/plain": [
       "<Figure size 432x288 with 2 Axes>"
      ]
     },
     "metadata": {
      "needs_background": "light"
     },
     "output_type": "display_data"
    }
   ],
   "source": [
    "# Normalized confusion matrix\n",
    "confusion_matrix = confusion_matrix / np.sum(confusion_matrix, axis=1).reshape(-1,1)\n",
    "\n",
    "plt.imshow(confusion_matrix, interpolation='nearest', cmap=plt.cm.Blues);\n",
    "\n",
    "plt.rcParams[\"figure.figsize\"] = [20,20];\n",
    "\n",
    "plt.title(\"Funguide: Normalized Confusion Matrix\",fontsize=24);\n",
    "\n",
    "tick_values = range(0,len(unique_genus))\n",
    "plt.xticks(ticks=tick_values, labels=unique_genus.tolist());\n",
    "plt.yticks(ticks=tick_values, labels=unique_genus.tolist());\n",
    "\n",
    "plt.ylabel(\"True Genus\", fontsize=18);\n",
    "plt.xlabel(\"Predicted Genus\", fontsize=18);\n",
    "plt.colorbar();"
   ]
  },
  {
   "cell_type": "code",
   "execution_count": null,
   "metadata": {},
   "outputs": [],
   "source": []
  }
 ],
 "metadata": {
  "accelerator": "GPU",
  "colab": {
   "collapsed_sections": [
    "yYjhp50_mkFc",
    "dsa47YZdVy-D"
   ],
   "name": "funguide.ipynb",
   "provenance": [],
   "toc_visible": true
  },
  "kernelspec": {
   "display_name": "local-venv",
   "language": "python",
   "name": "local-venv"
  },
  "language_info": {
   "codemirror_mode": {
    "name": "ipython",
    "version": 3
   },
   "file_extension": ".py",
   "mimetype": "text/x-python",
   "name": "python",
   "nbconvert_exporter": "python",
   "pygments_lexer": "ipython3",
   "version": "3.9.12"
  }
 },
 "nbformat": 4,
 "nbformat_minor": 1
}
